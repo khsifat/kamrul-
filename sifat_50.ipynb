{
  "nbformat": 4,
  "nbformat_minor": 0,
  "metadata": {
    "colab": {
      "provenance": [],
      "authorship_tag": "ABX9TyO7gEN7EX59Ao+ZSdUeLM3A",
      "include_colab_link": true
    },
    "kernelspec": {
      "name": "python3",
      "display_name": "Python 3"
    },
    "language_info": {
      "name": "python"
    }
  },
  "cells": [
    {
      "cell_type": "markdown",
      "metadata": {
        "id": "view-in-github",
        "colab_type": "text"
      },
      "source": [
        "<a href=\"https://colab.research.google.com/github/khsifat/kamrul-/blob/main/sifat_50.ipynb\" target=\"_parent\"><img src=\"https://colab.research.google.com/assets/colab-badge.svg\" alt=\"Open In Colab\"/></a>"
      ]
    },
    {
      "cell_type": "code",
      "execution_count": 5,
      "metadata": {
        "colab": {
          "base_uri": "https://localhost:8080/"
        },
        "id": "AfvV33GE0yTn",
        "outputId": "54b2c44a-d4d4-43fa-97d8-508a8d5dc7c3"
      },
      "outputs": [
        {
          "output_type": "stream",
          "name": "stdout",
          "text": [
            "Addition: 15\n",
            "Subtraction: 5\n",
            "Multiplication: 50\n",
            "Division: 2.0\n"
          ]
        }
      ],
      "source": [
        "# Define the calculate function\n",
        "def calculate(operation, x, y):\n",
        "    if operation == \"add\":\n",
        "        return x + y\n",
        "    elif operation == \"subtract\":\n",
        "        return x - y\n",
        "    elif operation == \"multiply\":\n",
        "        return x * y\n",
        "    elif operation == \"divide\":\n",
        "        return \"Cannot divide by zero\" if y == 0 else x / y\n",
        "    else:\n",
        "        return \"Invalid operation\"\n",
        "\n",
        "# Performing some calculations\n",
        "a = 10\n",
        "b = 5\n",
        "\n",
        "print(\"Addition:\", calculate(\"add\", a, b))\n",
        "print(\"Subtraction:\", calculate(\"subtract\", a, b))\n",
        "print(\"Multiplication:\", calculate(\"multiply\", a, b))\n",
        "print(\"Division:\", calculate(\"divide\", a, b))\n",
        "\n",
        "\n"
      ]
    }
  ]
}