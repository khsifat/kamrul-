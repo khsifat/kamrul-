{
  "nbformat": 4,
  "nbformat_minor": 0,
  "metadata": {
    "colab": {
      "provenance": [],
      "authorship_tag": "ABX9TyNt4Gj8qvZAS4/8T9eydxbP",
      "include_colab_link": true
    },
    "kernelspec": {
      "name": "python3",
      "display_name": "Python 3"
    },
    "language_info": {
      "name": "python"
    }
  },
  "cells": [
    {
      "cell_type": "markdown",
      "metadata": {
        "id": "view-in-github",
        "colab_type": "text"
      },
      "source": [
        "<a href=\"https://colab.research.google.com/github/khsifat/kamrul-/blob/main/sifat_50.ipynb\" target=\"_parent\"><img src=\"https://colab.research.google.com/assets/colab-badge.svg\" alt=\"Open In Colab\"/></a>"
      ]
    },
    {
      "cell_type": "code",
      "source": [
        "# Testing &= operator\n",
        "x = 5  # Binary: 0101\n",
        "x &= 3  # Binary: 0011 -> Result: 0001 (1)\n",
        "print(\"After &=, x =\", x)\n",
        "\n",
        "# Testing |= operator\n",
        "x = 5  # Reset x to 5 (Binary: 0101)\n",
        "x |= 3  # Binary: 0011 -> Result: 0111 (7)\n",
        "print(\"After |=, x =\", x)\n",
        "\n",
        "# Testing ^= operator\n",
        "x = 5  # Reset x to 5 (Binary: 0101)\n",
        "x ^= 3  # Binary: 0011 -> Result: 0110 (6)\n",
        "print(\"After ^=, x =\", x)\n",
        "\n",
        "# Testing >>= operator\n",
        "x = 16  # Binary: 10000\n",
        "x >>= 3  # Shift right by 3 -> Result: 00010 (2)\n",
        "print(\"After >>=, x =\", x)\n",
        "\n",
        "# Testing <<= operator\n",
        "x = 2  # Reset x to 2 (Binary: 00010)\n",
        "x <<= 3  # Shift left by 3 -> Result: 10000 (16)\n",
        "print(\"After <<=, x =\", x)"
      ],
      "metadata": {
        "id": "eDng6WGhD1Wk"
      },
      "execution_count": null,
      "outputs": []
    },
    {
      "cell_type": "code",
      "source": [
        "x = float(1)     # x will be 1.0\n",
        "y = float(2.8)   # y will be 2.8\n",
        "z = float(\"3\")   # z will be 3.0\n",
        "w = float(\"4.2\") # w will be 4.2"
      ],
      "metadata": {
        "id": "hyZMjXbrD3s3"
      },
      "execution_count": null,
      "outputs": []
    },
    {
      "cell_type": "code",
      "source": [
        "x = str(\"s1\") # x will be 's1'\n",
        "y = str(2)    # y will be '2'\n",
        "z = str(3.0)  # z will be '3.0'"
      ],
      "metadata": {
        "id": "_13myuilD_CD"
      },
      "execution_count": null,
      "outputs": []
    },
    {
      "cell_type": "code",
      "source": [
        "print(\"Hello\")\n",
        "print('Hello')"
      ],
      "metadata": {
        "id": "VoOkSqJGEJeN"
      },
      "execution_count": null,
      "outputs": []
    },
    {
      "cell_type": "code",
      "source": [
        "b = \"Hello, World!\"\n",
        "print(b[2:5])"
      ],
      "metadata": {
        "id": "MQPgAL2LENoJ"
      },
      "execution_count": null,
      "outputs": []
    },
    {
      "cell_type": "code",
      "source": [
        "a = \"Hello, World!\"\n",
        "print(a.upper())"
      ],
      "metadata": {
        "id": "-CsXrNUiEOi1"
      },
      "execution_count": null,
      "outputs": []
    },
    {
      "cell_type": "code",
      "source": [
        "a = \"Hello\"\n",
        "b = \"World\"\n",
        "c = a + b\n",
        "print(c)"
      ],
      "metadata": {
        "id": "8pRQXFJXEZb9"
      },
      "execution_count": null,
      "outputs": []
    },
    {
      "cell_type": "code",
      "source": [
        "a = \"Hello\"\n",
        "b = \"World\"\n",
        "c = a + b\n",
        "print(c)"
      ],
      "metadata": {
        "id": "XWu1O0H5Eekx"
      },
      "execution_count": null,
      "outputs": []
    },
    {
      "cell_type": "code",
      "source": [
        "a = \"Hello\"\n",
        "b = \"World\"\n",
        "c = a + b\n",
        "print(c)"
      ],
      "metadata": {
        "id": "Vo6TgLe_EoXY"
      },
      "execution_count": null,
      "outputs": []
    },
    {
      "cell_type": "code",
      "source": [
        "a = \"Hello\"\n",
        "b = \"World\"\n",
        "c = a + b\n",
        "print(c)"
      ],
      "metadata": {
        "id": "Umi6RdqLEsXY"
      },
      "execution_count": null,
      "outputs": []
    }
  ]
}